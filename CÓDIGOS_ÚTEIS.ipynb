{
 "cells": [
  {
   "cell_type": "markdown",
   "id": "e9533304",
   "metadata": {},
   "source": [
    "## Imports"
   ]
  },
  {
   "cell_type": "code",
   "execution_count": null,
   "id": "58d8f28a",
   "metadata": {},
   "outputs": [],
   "source": [
    "import pandas as pd \n",
    "import numpy as np\n",
    "import matplotlib.pyplot as plt\n",
    "import seaborn as sns"
   ]
  },
  {
   "cell_type": "markdown",
   "id": "a0a1cafe",
   "metadata": {},
   "source": [
    "## Códigos úteis"
   ]
  },
  {
   "cell_type": "code",
   "execution_count": null,
   "id": "80fa687e",
   "metadata": {},
   "outputs": [],
   "source": [
    "# Configurações visuais\n",
    "sns.set(style=\"whitegrid\")\n",
    "\n",
    "# Carregar os dados\n",
    "df = pd.read_csv(\"sua planilha CSV\")\n",
    "\n",
    "# When to use ISO-8859-1:\n",
    "#The file contains special characters (e.g., accented characters like é, ñ, ü) that are not handled properly with the default 'utf-8' encoding.\n",
    "#You encounter an error like UnicodeDecodeError when trying to read the file with 'utf-8'.\n",
    "df = pd.read_csv(\"sua planilha CSV\", encoding=\"ISO-8859-1\")\n",
    "\n",
    "# Visualização das 5 primeiras linhas\n",
    "df.head()\n",
    "\n",
    "# Verificando informações gerais\n",
    "df.info()\n",
    "\n",
    "# Estatísticas descritivas\n",
    "df.describe()\n",
    "\n",
    "# Verificando valores nulos\n",
    "df.isnull().sum()\n",
    "\n",
    "# Remover linhas com valores nulos da respectiva coluna que está entre conchete\n",
    "df.dropna(subset=[\"nome da coluna\"], inplace=True)\n",
    "\n",
    "# Remover linhas com um começo ou final específico (startswith(X)) ou (endswith(X)) da coluna especificada no conchete\n",
    "df = df[~df['nome da coluna'].astype(\"classe sem áspas\").str.startswith('X')]\n",
    "\n",
    "# criar coluna com base em outras colunas coloque os nomes, será o nome da coluna\n",
    "df['coluna 1 * coluna 2'] = df['coluna 1'] * df['coluna 2']\n",
    "\n",
    "# Você tem uma planilha com várias linhas. Às vezes, por erro ou por juntar informações de vários lugares,\n",
    "# podem aparecer linhas exatamente iguais. é tipo um remover duplicadas, só que verificando uma linha inteira que é igual a de baixo.\n",
    "df.drop_duplicates(inplace=True)\n",
    "\n",
    "#Colocar titulos nos gráficos. o \"\\n\" faz uma quebra de linha anterior\n",
    "print(\"\\n### Informações Iniciais ###\")"
   ]
  },
  {
   "cell_type": "markdown",
   "id": "429f54c8",
   "metadata": {},
   "source": [
    "## Metricas RFM"
   ]
  },
  {
   "cell_type": "code",
   "execution_count": null,
   "id": "a5be4c6f",
   "metadata": {},
   "outputs": [],
   "source": [
    "# Essas 3 métricas ajudam empresas a entender quem são seus melhores clientes, com base nos hábitos de compra.\n",
    "\n",
    "# 📊 O que é RFM?\n",
    "# RFM é uma sigla em inglês que significa:\n",
    "\n",
    "# R: Recência (Recency)\n",
    "\n",
    "# F: Frequência (Frequency)\n",
    "\n",
    "# M: Valor Monetário (Monetary)\n",
    "\n",
    "# 🔍 Explicando cada uma:\n",
    "# 1. Recência (R - Recency)\n",
    "# → Quanto tempo faz desde a última compra do cliente.\n",
    "# Quanto menor esse número, melhor (ele comprou recentemente!).\n",
    "\n",
    "# 2. Frequência (F - Frequency)\n",
    "# → Quantas vezes o cliente comprou.\n",
    "# Quanto maior, melhor (ele compra com frequência!).\n",
    "\n",
    "# 3. Valor Monetário (M - Monetary)\n",
    "# → Quanto dinheiro o cliente gastou no total.\n",
    "# Quanto maior, melhor (ele gasta bastante!).\n",
    "\n",
    "\n",
    "# 🧠 Exemplo simples:\n",
    "# Imagine 3 clientes em uma loja:\n",
    "\n",
    "# Cliente\tÚltima Compra\tNº de Compras\tTotal Gasto\n",
    "# Ana\t    2 dias atrás    5 vezes\t        R$ 500\n",
    "# João\t    30 dias atrás\t2 vezes\t        R$ 150\n",
    "# Carla\t    10 dias atrás\t8 vezes\t        R$ 800\n",
    "\n",
    "# A Ana comprou recentemente, com frequência média, e gastou um valor bom.\n",
    "# O João está sumido, comprou pouco e gastou pouco.\n",
    "# A Carla é excelente: compra bastante, gastou bastante, e não faz tanto tempo que comprou.\n",
    "\n",
    "# Com essas informações, a empresa pode fazer campanhas direcionadas:\n",
    "\n",
    "# Recompensar os bons clientes,\n",
    "\n",
    "# Reativar clientes inativos,\n",
    "\n",
    "# Estimular quem compra pouco."
   ]
  },
  {
   "cell_type": "code",
   "execution_count": null,
   "id": "82f72eda",
   "metadata": {},
   "outputs": [],
   "source": [
    "# Data de referência\n",
    "ref_date = df['InvoiceDate'].max() + pd.Timedelta(days=1)\n",
    "\n",
    "# Agrupar por cliente e calcular RFM\n",
    "rfm = df.groupby('CustomerID').agg({\n",
    "    'InvoiceDate': lambda x: (ref_date - x.max()).days,\n",
    "    'InvoiceNo': 'nunique',\n",
    "    'TotalPrice': 'sum'\n",
    "}).reset_index()\n",
    "\n",
    "rfm.columns = ['CustomerID', 'Recency', 'Frequency', 'Monetary']\n",
    "\n",
    "# Verificar outliers com boxplot\n",
    "fig, axes = plt.subplots(1, 3, figsize=(18, 5))\n",
    "sns.boxplot(data=rfm, y='Recency', ax=axes[0])\n",
    "sns.boxplot(data=rfm, y='Frequency', ax=axes[1])\n",
    "sns.boxplot(data=rfm, y='Monetary', ax=axes[2])\n",
    "plt.show()"
   ]
  },
  {
   "cell_type": "markdown",
   "id": "060da7f4",
   "metadata": {},
   "source": []
  }
 ],
 "metadata": {
  "language_info": {
   "name": "python"
  }
 },
 "nbformat": 4,
 "nbformat_minor": 5
}
